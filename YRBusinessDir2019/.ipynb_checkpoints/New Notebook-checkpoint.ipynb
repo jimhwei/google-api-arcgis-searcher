{
 "cells": [
  {
   "cell_type": "code",
   "execution_count": 2,
   "metadata": {},
   "outputs": [],
   "source": [
    "from arcgis.gis import GIS"
   ]
  },
  {
   "cell_type": "code",
   "execution_count": 3,
   "metadata": {},
   "outputs": [],
   "source": [
    "gis = GIS(\"pro\")"
   ]
  },
  {
   "cell_type": "code",
   "execution_count": 5,
   "metadata": {},
   "outputs": [
    {
     "data": {
      "text/plain": [
       "'ArcGIS Online'"
      ]
     },
     "execution_count": 5,
     "metadata": {},
     "output_type": "execute_result"
    }
   ],
   "source": [
    "gis.properties.portalName"
   ]
  },
  {
   "cell_type": "code",
   "execution_count": 6,
   "metadata": {},
   "outputs": [
    {
     "name": "stdout",
     "output_type": "stream",
     "text": [
      "\u001b[1;31mSignature:\u001b[0m\n",
      "\u001b[0mgis\u001b[0m\u001b[1;33m.\u001b[0m\u001b[0mcontent\u001b[0m\u001b[1;33m.\u001b[0m\u001b[0msearch\u001b[0m\u001b[1;33m(\u001b[0m\u001b[1;33m\n",
      "\u001b[0m    \u001b[0mquery\u001b[0m\u001b[1;33m,\u001b[0m\u001b[1;33m\n",
      "\u001b[0m    \u001b[0mitem_type\u001b[0m\u001b[1;33m=\u001b[0m\u001b[1;32mNone\u001b[0m\u001b[1;33m,\u001b[0m\u001b[1;33m\n",
      "\u001b[0m    \u001b[0msort_field\u001b[0m\u001b[1;33m=\u001b[0m\u001b[1;34m'avgRating'\u001b[0m\u001b[1;33m,\u001b[0m\u001b[1;33m\n",
      "\u001b[0m    \u001b[0msort_order\u001b[0m\u001b[1;33m=\u001b[0m\u001b[1;34m'desc'\u001b[0m\u001b[1;33m,\u001b[0m\u001b[1;33m\n",
      "\u001b[0m    \u001b[0mmax_items\u001b[0m\u001b[1;33m=\u001b[0m\u001b[1;36m10\u001b[0m\u001b[1;33m,\u001b[0m\u001b[1;33m\n",
      "\u001b[0m    \u001b[0moutside_org\u001b[0m\u001b[1;33m=\u001b[0m\u001b[1;32mFalse\u001b[0m\u001b[1;33m,\u001b[0m\u001b[1;33m\n",
      "\u001b[0m    \u001b[0mcategories\u001b[0m\u001b[1;33m=\u001b[0m\u001b[1;32mNone\u001b[0m\u001b[1;33m,\u001b[0m\u001b[1;33m\n",
      "\u001b[0m    \u001b[0mcategory_filters\u001b[0m\u001b[1;33m=\u001b[0m\u001b[1;32mNone\u001b[0m\u001b[1;33m,\u001b[0m\u001b[1;33m\n",
      "\u001b[0m\u001b[1;33m)\u001b[0m\u001b[1;33m\u001b[0m\u001b[1;33m\u001b[0m\u001b[0m\n",
      "\u001b[1;31mDocstring:\u001b[0m\n",
      "Searches for portal items.\n",
      "\n",
      ".. note::\n",
      "    A few things that will be helpful to know...\n",
      "\n",
      "    1. The query syntax has many features that can't be adequately\n",
      "       described here.  The query syntax is available in ArcGIS Help.\n",
      "       A short version of that URL is http://bitly.com/1fJ8q31.\n",
      "\n",
      "    2. Most of the time when searching for items, you'll want to\n",
      "       search within your organization in ArcGIS Online\n",
      "       or within your Portal.  As a convenience, the method\n",
      "---Return to continue, q to quit---                                    \u001b[0m       automatically appends your organization id to the query by\n",
      "       default.  If you want content from outside your organization\n",
      "       set outside_org to True.\n",
      "\n",
      "================  ==========================================================================\n",
      "**Argument**      **Description**\n",
      "----------------  --------------------------------------------------------------------------\n",
      "query             Required string. A query string.  See notes above.\n",
      "----------------  --------------------------------------------------------------------------\n",
      "item_type         Optional string. Set type of item to search.\n",
      "                  http://resources.arcgis.com/en/help/arcgis-rest-api/index.html#//02r3000000ms000000\n",
      "----------------  --------------------------------------------------------------------------\n",
      "sort_field        Optional string. Valid values can be title, uploaded, type, owner, modified,\n",
      "                  avgRating, numRatings, numComments, and numViews.\n",
      "----------------  --------------------------------------------------------------------------\n",
      "sort_order        Optional string. Valid values are asc or desc.\n",
      "----------------  --------------------------------------------------------------------------\n",
      "max_items         Optional integer. Maximum number of items returned, default is 10.\n",
      "----------------  --------------------------------------------------------------------------\n",
      "outside_org       Optional boolean. Controls whether to search outside your org (default is False, do not search ourside your org).\n",
      "----------------  --------------------------------------------------------------------------\n",
      "categories        Optional string or list. A string of category values.\n",
      "----------------  --------------------------------------------------------------------------\n",
      "category_filters  Optional string. A comma separated list of up to 3 category terms to\n",
      "---Return to continue, q to quit---                                    \u001b[0m                  search items that have matching categories.\n",
      "\n",
      "                  Up to 2 category_filters parameter are allowed per request. It can not be\n",
      "                  used together with categories to search in a request.\n",
      "\n",
      "================  ==========================================================================\n",
      "\n",
      ":return:\n",
      "    A list of items matching the specified query.\n",
      "\u001b[1;31mFile:\u001b[0m      c:\\users\\jwei\\appdata\\local\\esri\\conda\\envs\\arcgispro-py3-clone\\lib\\site-packages\\arcgis\\gis\\__init__.py\n",
      "\u001b[1;31mType:\u001b[0m      method\n"
     ]
    }
   ],
   "source": [
    "gis.content.search?"
   ]
  }
 ],
 "metadata": {
  "kernelspec": {
   "display_name": "ArcGISPro",
   "language": "Python",
   "name": "python3"
  },
  "language_info": {
   "file_extension": ".py",
   "name": "python",
   "version": "3"
  }
 },
 "nbformat": 4,
 "nbformat_minor": 2
}
