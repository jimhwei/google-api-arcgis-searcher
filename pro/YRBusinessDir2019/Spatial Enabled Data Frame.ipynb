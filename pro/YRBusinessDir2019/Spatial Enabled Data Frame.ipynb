{
 "cells": [
  {
   "cell_type": "code",
   "execution_count": 6,
   "metadata": {},
   "outputs": [],
   "source": [
    "import pandas as pd\n",
    "from arcgis.features import GeoAccessor, GeoSeriesAccessor"
   ]
  },
  {
   "cell_type": "code",
   "execution_count": 10,
   "metadata": {},
   "outputs": [
    {
     "data": {
      "text/html": [
       "<div class=\"item_container\" style=\"height: auto; overflow: hidden; border: 1px solid #cfcfcf; border-radius: 2px; background: #f6fafa; line-height: 1.21429em; padding: 10px;\">\n",
       "                    <div class=\"item_left\" style=\"width: 210px; float: left;\">\n",
       "                       <a href='https://www.arcgis.com//home/item.html?id=60e0f42438ac416d862d720347752f2c' target='_blank'>\n",
       "                        <img src='data:image/png;base64,iVBORw0KGgoAAAANSUhEUgAAAMgAAACFCAYAAAAenrcsAAAElElEQVR4Xu3d/2vUdQDHcf+U/oL6oeiXoqAvhkS/pP4UihoiCKv1zeiLBZbJLDfXzNpUGiQyo9RQEkpRogQp0EqmtibNuZ27u93utt123195C0retBfzdtvtvOfjx89rH/bLnnzu84H7bJkAzGpZeADAfwgEMAgEMAgEMAgEMAgEMAgEMAgEMAgEMAgEMAgEMAgEMAgEMAgEMAgEMAgEMAgEMAgEMAgEMAgEMAgEMAgEMAgEMAgEMAgEMAgEMAgEMAgEMAgEMAgEMAgEMAgEMAgEMAgEMAgEMAgEMAgEMAgEMAgEMAgEMAikDpUKBSVPH1HsizblUqlwRhURSA2U/8BVKoWH5ywbjSi69WmN71ih+NEvwxlVRCCLbPK380q2bVKs57NwmrNiNqvhzz/QjZ0blB0ZDmdUEYEssljPHo23L9fwayvDqQKVX4UwNwSyyLKxEcWOH1D66sVwwhJEIIBBIIBBIFU2Fbmh6Ike5caT4YQ6RCBVFmtvVqZrnWLdH4cT6hCBVFlk/3YNvHCfxr47Ek6oQwRSZcVcVvlUQqViIZxQhwgEMAgEMAgEMAgEMAgEMAgEMAgEMAikEqWSitNT/3zxCXc1AqnAxMVzSrZuVPRgRzjdsVKxOBPbfL5hiIVDIBWIHd6rVOvjimxZHU53LHHsgMZ2bVTyx+/DCUsAgVQgl4grdqJb6T8vhdMdi+xYr+RHjynW1RJOWAIIpMbS/Vc00LJZkQ+bNNnXG86oMQJZAm7euopMda5W7NPt4bRoSvm8EicPKbp/u7JjiXBuWASyBIye/kY3WtYp3XshnBZN+VVCI1tXaHzHU7xK6DYEskCmr/cr3rlVYz+cDKf/V+OnWMVcTjcP7dZQe5Ny8ei/x/MTKaX/uKRiJnPbTzcOAlkg8Z4OZfatqtLrfWon3vWOptrXKP51dzg1BAJZIOlbN9yDLRuUOPVVONWVodYXFXn9Xo0e7gynhkAgC6o6H5vy40nFjx/UZP+VcJqRn5xQJjKoYj4XTvNW/t3lx9nFLB+xsESNHjug7P61Gn57rUqFvBJnjity6BNF976l1K8/q6/5Wd18+Uld79wVnop5IpA6kPzplAZefVAj+7Ypce6M0h3PaXjz/TOPhofeb1bvM/co2fKoBl5ZE56KeSKQelAqqTCVnrl6pP+6putvLldf0xMa3Lle6csXNNC9R5e3rFLi/NnwTMwTgdShYmZ65u0pt9/jlGr8mPhuRSCAQSCA0TCBZBMxjf/+iwrl714Ac9QQgZRvcIfee15Dmx7StbZt4QzMqiECKf/TmsGXHlb8jQd0deUj4QzMqiECKT8mHT37rfrfXavR00fDFZhVYwQCVIhAAINAAINAAINAAINAAINAAINAAINAAINAAINAAINAAINAAINAAINAAINAAINAAINAAINAAINAAINAAINAAINAAINAAINAAINAAINAAINAAINAAINAAINAAINAAINAAINAAINAAINAAINAAINAAINAAINAAINAAINAAINAAINAAINAAINAAINAAINAAINAAINAAINAAINAAINAAONv3kGsMhVQ8KYAAAAASUVORK5CYII=' width='200' height='133' class=\"itemThumbnail\">\n",
       "                       </a>\n",
       "                    </div>\n",
       "\n",
       "                    <div class=\"item_right\"     style=\"float: none; width: auto; overflow: hidden;\">\n",
       "                        <a href='https://www.arcgis.com//home/item.html?id=60e0f42438ac416d862d720347752f2c' target='_blank'><b>BubbleTea</b>\n",
       "                        </a>\n",
       "                        <br/><img src='https://www.arcgis.com//home/js/jsapi/esri/css/images/item_type_icons/featureshosted16.png' style=\"vertical-align:middle;\">Feature Layer Collection by howe_dev\n",
       "                        <br/>Last Modified: November 04, 2021\n",
       "                        <br/>0 comments, 6 views\n",
       "                    </div>\n",
       "                </div>\n",
       "                "
      ],
      "text/plain": [
       "<Item title:\"BubbleTea\" type:Feature Layer Collection owner:howe_dev>"
      ]
     },
     "execution_count": 10,
     "metadata": {},
     "output_type": "execute_result"
    }
   ],
   "source": [
    "from arcgis import GIS\n",
    "gis = GIS(\"Pro\")\n",
    "item = gis.content.get(\"60e0f42438ac416d862d720347752f2c\")\n",
    "flayer = item.layers[0]\n",
    "item\n",
    "# flayer"
   ]
  },
  {
   "cell_type": "code",
   "execution_count": 12,
   "metadata": {},
   "outputs": [
    {
     "data": {
      "text/html": [
       "<div>\n",
       "<style scoped>\n",
       "    .dataframe tbody tr th:only-of-type {\n",
       "        vertical-align: middle;\n",
       "    }\n",
       "\n",
       "    .dataframe tbody tr th {\n",
       "        vertical-align: top;\n",
       "    }\n",
       "\n",
       "    .dataframe thead th {\n",
       "        text-align: right;\n",
       "    }\n",
       "</style>\n",
       "<table border=\"1\" class=\"dataframe\">\n",
       "  <thead>\n",
       "    <tr style=\"text-align: right;\">\n",
       "      <th></th>\n",
       "      <th>name</th>\n",
       "      <th>lat</th>\n",
       "      <th>lng</th>\n",
       "      <th>place_id</th>\n",
       "      <th>address</th>\n",
       "      <th>ObjectId</th>\n",
       "      <th>SHAPE</th>\n",
       "    </tr>\n",
       "  </thead>\n",
       "  <tbody>\n",
       "    <tr>\n",
       "      <th>15</th>\n",
       "      <td>Bubble Tea</td>\n",
       "      <td>43.884806</td>\n",
       "      <td>-79.465988</td>\n",
       "      <td>ChIJQ67SGSYqK4gR58vT4Gco_SA</td>\n",
       "      <td>Richmond Hill</td>\n",
       "      <td>16</td>\n",
       "      <td>{\"x\": -8846113.341808286, \"y\": 5447632.9793466...</td>\n",
       "    </tr>\n",
       "    <tr>\n",
       "      <th>16</th>\n",
       "      <td>Golden Bubbles Richmond Hill</td>\n",
       "      <td>43.895693</td>\n",
       "      <td>-79.443576</td>\n",
       "      <td>ChIJ40RT1forK4gRYc2vnevh4vE</td>\n",
       "      <td>11000 Yonge St D2, Richmond Hill</td>\n",
       "      <td>17</td>\n",
       "      <td>{\"x\": -8843618.393720882, \"y\": 5449314.5827890...</td>\n",
       "    </tr>\n",
       "    <tr>\n",
       "      <th>17</th>\n",
       "      <td>CoCo Fresh Tea &amp; Juice</td>\n",
       "      <td>43.842573</td>\n",
       "      <td>-79.386562</td>\n",
       "      <td>ChIJN4NXlk4rK4gR5Ge61II-1uo</td>\n",
       "      <td>505 Hwy 7 Unit 5, Thornhill</td>\n",
       "      <td>18</td>\n",
       "      <td>{\"x\": -8837271.613140846, \"y\": 5441112.1638115...</td>\n",
       "    </tr>\n",
       "    <tr>\n",
       "      <th>18</th>\n",
       "      <td>Shuyi Tealicious 书亦烧仙草</td>\n",
       "      <td>43.843229</td>\n",
       "      <td>-79.408205</td>\n",
       "      <td>ChIJDaAiiOQrK4gREhD286YyP_g</td>\n",
       "      <td>8750 Bayview Ave #15, Richmond Hill</td>\n",
       "      <td>19</td>\n",
       "      <td>{\"x\": -8839680.912012033, \"y\": 5441213.4753496...</td>\n",
       "    </tr>\n",
       "    <tr>\n",
       "      <th>19</th>\n",
       "      <td>Chatime</td>\n",
       "      <td>43.848883</td>\n",
       "      <td>-79.323605</td>\n",
       "      <td>ChIJ81T7HEXU1IkRAJHHwEP6NqE</td>\n",
       "      <td>169 Enterprise Blvd l106, Markham</td>\n",
       "      <td>20</td>\n",
       "      <td>{\"x\": -8830263.31648677, \"y\": 5442086.24540390...</td>\n",
       "    </tr>\n",
       "  </tbody>\n",
       "</table>\n",
       "</div>"
      ],
      "text/plain": [
       "                            name  ...                                              SHAPE\n",
       "15                    Bubble Tea  ...  {\"x\": -8846113.341808286, \"y\": 5447632.9793466...\n",
       "16  Golden Bubbles Richmond Hill  ...  {\"x\": -8843618.393720882, \"y\": 5449314.5827890...\n",
       "17        CoCo Fresh Tea & Juice  ...  {\"x\": -8837271.613140846, \"y\": 5441112.1638115...\n",
       "18        Shuyi Tealicious 书亦烧仙草  ...  {\"x\": -8839680.912012033, \"y\": 5441213.4753496...\n",
       "19                       Chatime  ...  {\"x\": -8830263.31648677, \"y\": 5442086.24540390...\n",
       "\n",
       "[5 rows x 7 columns]"
      ]
     },
     "execution_count": 12,
     "metadata": {},
     "output_type": "execute_result"
    }
   ],
   "source": [
    "# create a Spatially Enabled DataFrame object\n",
    "sdf = pd.DataFrame.spatial.from_layer(flayer)\n",
    "sdf.head()"
   ]
  },
  {
   "cell_type": "code",
   "execution_count": null,
   "metadata": {},
   "outputs": [],
   "source": []
  }
 ],
 "metadata": {
  "kernelspec": {
   "display_name": "ArcGISPro",
   "language": "Python",
   "name": "python3"
  },
  "language_info": {
   "file_extension": ".py",
   "name": "python",
   "version": "3"
  }
 },
 "nbformat": 4,
 "nbformat_minor": 2
}
