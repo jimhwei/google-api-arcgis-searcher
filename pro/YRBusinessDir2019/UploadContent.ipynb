{
 "cells": [
  {
   "cell_type": "markdown",
   "metadata": {},
   "source": [
    "## Connection to ArcGIS Online and setting up"
   ]
  },
  {
   "cell_type": "code",
   "execution_count": 2,
   "metadata": {},
   "outputs": [],
   "source": [
    "from arcgis.gis import GIS\n",
    "import os"
   ]
  },
  {
   "cell_type": "code",
   "execution_count": 4,
   "metadata": {},
   "outputs": [
    {
     "name": "stdout",
     "output_type": "stream",
     "text": [
      "GIS @ https://www.arcgis.com/ version:9.3\n"
     ]
    }
   ],
   "source": [
    "gis = GIS('pro')\n",
    "print(gis)"
   ]
  },
  {
   "cell_type": "markdown",
   "metadata": {},
   "source": [
    "## Creating New Content\n",
    "https://developers.arcgis.com/python/guide/accessing-and-creating-content/#Creating-new-content"
   ]
  },
  {
   "cell_type": "code",
   "execution_count": 21,
   "metadata": {},
   "outputs": [
    {
     "name": "stdout",
     "output_type": "stream",
     "text": [
      "C:\\Users\\jwei\\Documents\\ArcGIS\\Projects\\YRBusinessDir2019\\YRBusinessDir2019.gdb\\CocoFreshTea\n",
      "C:\\Users\\jwei\\Documents\\ArcGIS\\Projects\\YRBusinessDir2019\\cocobbt.png\n"
     ]
    },
    {
     "ename": "RuntimeError",
     "evalue": "File(C:\\Users\\jwei\\Documents\\ArcGIS\\Projects\\YRBusinessDir2019\\YRBusinessDir2019.gdb\\CocoFreshTea) not found.",
     "output_type": "error",
     "traceback": [
      "\u001b[0;31m---------------------------------------------------------------------------\u001b[0m\n\u001b[0;31mRuntimeError\u001b[0m                              Traceback (most recent call last)",
      "In  \u001b[0;34m[21]\u001b[0m:\nLine \u001b[0;34m15\u001b[0m:    coco_item = gis.content.add(item_properties=layer_properties, data=layer_path, thumbnail=thumbnail_path)\n",
      "File \u001b[0;34mC:\\Users\\jwei\\AppData\\Local\\ESRI\\conda\\envs\\arcgispro-py3-clone1\\lib\\site-packages\\arcgis\\gis\\__init__.py\u001b[0m, in \u001b[0;32madd\u001b[0m:\nLine \u001b[0;34m4265\u001b[0m:  owner_name, folder)\n",
      "File \u001b[0;34mC:\\Users\\jwei\\AppData\\Local\\ESRI\\conda\\envs\\arcgispro-py3-clone1\\lib\\site-packages\\arcgis\\gis\\_impl\\_portalpy.py\u001b[0m, in \u001b[0;32madd_item\u001b[0m:\nLine \u001b[0;34m326\u001b[0m:   \u001b[34mraise\u001b[39;49;00m \u001b[36mRuntimeError\u001b[39;49;00m(\u001b[33m\"\u001b[39;49;00m\u001b[33mFile(\u001b[39;49;00m\u001b[33m\"\u001b[39;49;00m+data+\u001b[33m\"\u001b[39;49;00m\u001b[33m) not found.\u001b[39;49;00m\u001b[33m\"\u001b[39;49;00m)\n",
      "\u001b[0;31mRuntimeError\u001b[0m: File(C:\\Users\\jwei\\Documents\\ArcGIS\\Projects\\YRBusinessDir2019\\YRBusinessDir2019.gdb\\CocoFreshTea) not found.\n\u001b[0;31m---------------------------------------------------------------------------\u001b[0m"
     ]
    }
   ],
   "source": [
    "# What does r\".\\data\" mean in this context? Is it possible to reference things within the project?\n",
    "# What if I move the project around, wouldn't it break?\n",
    "\n",
    "data_path = (r\"C:\\Users\\jwei\\Documents\\ArcGIS\\Projects\\YRBusinessDir2019\")\n",
    "layer_path = os.path.join(data_path, \"YRBusinessDir2019.gdb\\CocoFreshTea\")\n",
    "# print(csv_path)\n",
    "\n",
    "layer_properties={'title':'CoCo Fresh Tea & Juice GTA 2021 ',\n",
    "                'description':'Location of CoCo Fresh Tea & Juice location as of October 2021 in the Greater Toronto Area (GTA)',\n",
    "                'tags':'arcgis, python, bubbletea, bubble tea, boba, GTA',\n",
    "                 'type':'Feature Service'}\n",
    "\n",
    "thumbnail_path = os.path.join(data_path, \"cocobbt.png\")\n",
    "# print(thumbnail_path)\n",
    "\n",
    "# How can I add a feature class layer to an item?\n",
    "coco_item = gis.content.add(item_properties=layer_properties, data=layer_path, thumbnail=thumbnail_path)\n",
    "# coco_item = gis.content.add(item_properties=layer_properties, data=data_path)"
   ]
  },
  {
   "cell_type": "code",
   "execution_count": 11,
   "metadata": {},
   "outputs": [],
   "source": [
    "# Uploading as csv instead of feature class\n",
    "data_path = (r\"C:\\Users\\jwei\\Documents\\ArcGIS\\Projects\\YRBusinessDir2019\")\n",
    "\n",
    "csv_path = os.path.join(data_path, \"CocoFreshTea.csv\")\n",
    "csv_properties={'title':'CoCo Fresh Tea & Juice GTA 2021 ',\n",
    "                'description':'Location of CoCo Fresh Tea & Juice location as of October 2021 in the Greater Toronto Area (GTA)',\n",
    "                'tags':'arcgis, python, bubbletea, bubble tea, boba, GTA'}\n",
    "thumbnail_path = os.path.join(data_path, \"cocobbt.png\")\n",
    "\n",
    "coco_csv_item = gis.content.add(item_properties=csv_properties, data=csv_path,\n",
    "                                     thumbnail = thumbnail_path)"
   ]
  },
  {
   "cell_type": "code",
   "execution_count": 12,
   "metadata": {},
   "outputs": [
    {
     "data": {
      "text/html": [
       "<div class=\"item_container\" style=\"height: auto; overflow: hidden; border: 1px solid #cfcfcf; border-radius: 2px; background: #f6fafa; line-height: 1.21429em; padding: 10px;\">\n",
       "                    <div class=\"item_left\" style=\"width: 210px; float: left;\">\n",
       "                       <a href='https://www.arcgis.com//home/item.html?id=991ac92fc88d45faa3fc257f7a4a977e' target='_blank'>\n",
       "                        <img src='data:image/png;base64,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' width='200' height='133' class=\"itemThumbnail\">\n",
       "                       </a>\n",
       "                    </div>\n",
       "\n",
       "                    <div class=\"item_right\"     style=\"float: none; width: auto; overflow: hidden;\">\n",
       "                        <a href='https://www.arcgis.com//home/item.html?id=991ac92fc88d45faa3fc257f7a4a977e' target='_blank'><b>CoCo Fresh Tea & Juice GTA 2021 </b>\n",
       "                        </a>\n",
       "                        <br/><img src='https://www.arcgis.com//home/js/jsapi/esri/css/images/item_type_icons/layers16.png' style=\"vertical-align:middle;\">CSV by jwei_support\n",
       "                        <br/>Last Modified: October 25, 2021\n",
       "                        <br/>0 comments, 0 views\n",
       "                    </div>\n",
       "                </div>\n",
       "                "
      ],
      "text/plain": [
       "<Item title:\"CoCo Fresh Tea & Juice GTA 2021 \" type:CSV owner:jwei_support>"
      ]
     },
     "execution_count": 12,
     "metadata": {},
     "output_type": "execute_result"
    }
   ],
   "source": [
    "coco_csv_item"
   ]
  },
  {
   "cell_type": "code",
   "execution_count": 13,
   "metadata": {},
   "outputs": [],
   "source": [
    "coco_feature_layer_item = coco_csv_item.publish()"
   ]
  },
  {
   "cell_type": "code",
   "execution_count": 14,
   "metadata": {},
   "outputs": [
    {
     "data": {
      "text/html": [
       "<div class=\"item_container\" style=\"height: auto; overflow: hidden; border: 1px solid #cfcfcf; border-radius: 2px; background: #f6fafa; line-height: 1.21429em; padding: 10px;\">\n",
       "                    <div class=\"item_left\" style=\"width: 210px; float: left;\">\n",
       "                       <a href='https://www.arcgis.com//home/item.html?id=f329c34f47cf4c46b8cce3dd3da26064' target='_blank'>\n",
       "                        <img src='data:image/png;base64,iVBORw0KGgoAAAANSUhEUgAAAMgAAACFCAMAAAApQEceAAADAFBMVEUAAAAAADMAAGYAAJkAAMwAAP8AMwAAMzMAM2YAM5kAM8wAM/8AZgAAZjMAZmYAZpkAZswAZv8AmQAAmTMAmWYAmZkAmcwAmf8AzAAAzDMAzGYAzJkAzMwAzP8A/wAA/zMA/2YA/5kA/8wA//8zAAAzADMzAGYzAJkzAMwzAP8zMwAzMzMzM2YzM5kzM8wzM/8zZgAzZjMzZmYzZpkzZswzZv8zmQAzmTMzmWYzmZkzmcwzmf8zzAAzzDMzzGYzzJkzzMwzzP8z/wAz/zMz/2Yz/5kz/8wz//9mAABmADNmAGZmAJlmAMxmAP9mMwBmMzNmM2ZmM5lmM8xmM/9mZgBmZjNmZmZmZplmZsxmZv9mmQBmmTNmmWZmmZlmmcxmmf9mzABmzDNmzGZmzJlmzMxmzP9m/wBm/zNm/2Zm/5lm/8xm//+ZAACZADOZAGaZAJmZAMyZAP+ZMwCZMzOZM2aZM5mZM8yZM/+ZZgCZZjOZZmaZZpmZZsyZZv+ZmQCZmTOZmWaZmZmZmcyZmf+ZzACZzDOZzGaZzJmZzMyZzP+Z/wCZ/zOZ/2aZ/5mZ/8yZ///MAADMADPMAGbMAJnMAMzMAP/MMwDMMzPMM2bMM5nMM8zMM//MZgDMZjPMZmbMZpnMZszMZv/MmQDMmTPMmWbMmZnMmczMmf/MzADMzDPMzGbMzJnMzMzMzP/M/wDM/zPM/2bM/5nM/8zM////AAD/ADP/AGb/AJn/AMz/AP//MwD/MzP/M2b/M5n/M8z/M///ZgD/ZjP/Zmb/Zpn/Zsz/Zv//mQD/mTP/mWb/mZn/mcz/mf//zAD/zDP/zGb/zJn/zMz/zP///wD//zP//2b//5n//8z///8SEhIYGBgeHh4kJCQqKiowMDA2NjY8PDxCQkJISEhOTk5UVFRaWlpgYGBmZmZsbGxycnJ4eHh+fn6EhISKioqQkJCWlpacnJyioqKoqKiurq60tLS6urrAwMDGxsbMzMzS0tLY2Nje3t7k5OTq6urw8PD29vb8/PwgKWLDAAAQQUlEQVR4Xu2cb2wbx5XAd0WKK1lSJMtNew1qXRwtHZUsUMgokA+CGzSIYdqnkoZx0SGXxM7BsB3nYsuV7FMNNB8O+eDKNXVSLxfHToLGSvrnlKsvZNWYRYz0ToK+RjjkSBPkKmntIqlby5YsyeJSpLczy92d2Zldcjlc++6Df4al2bfD3X07b95783YpnrsnpLlvXg4nIpO80vufRfnrCrm/dupIwd3g06utrbsagx4RtMX677d2p8ketXPXFRE+2/LFCS9vkvkfEEzbbuAlBW7CXxaE7zX4STHY8fuFLlJWI3dRkbTvbx+os5sNDaSgVu6aIkK6gfObLQrH9fPepTki7drVcJQU4rh+XtcPCEh/4w/NZ0ghAB+fAtZ2BdcVSWe+0Rr0kNJ+79mWZx/wIYGMmu7gtiKZv28OkjLO1/TTDa1Nodt5Q3LHwpXVhquK8NktLdQE97y5oa/Fw3PF5TUk3ISaLuGmIunu5g8IUX/9Ow821/eC1uTtF5BYdt2yXFQks6WVtBdf80/b67X29hUkzz6M2m7hliLpLc2UGq19zR7d0JR9aIeSRG3XcCkwfdpIzA3e96VxDpqUxjKa6GPL7huWS4oIUr05FeHfHhg3CZQcaj/5v6jtHi4own82ZD6KJ7hhyCTguPwdo6n4ruyK8ZyHOzp6dJRXwM9/6Y3t+FXXJ4/a5WWOqH2OZD4ncvJg+8vU7RlFTd5f7/d6PVgCw/u9lxp2tXzx+RYJCaulZkV+12zKqfjgl16m4jpww6TAgn7e3/TFFdaVSo2K8FeGTJP8uMVoQJxeHl+/63dkRHWG5Wkdk1lnuvu+tvM2V8E3kxJbhO6fsSy6ahoRYZ3pPjT1NdjoAfZ12+4i8T/guCtGLYpkduHjwb/bgsUNiqF2n9Pr47tJiQNqUOTTFmwDTPIKVlo/3t7d6PP6POC/cK4h2NTd3N3c1NzdBKQeszPwZ0ybjqhw9jJIjdjG8bPdFr6KoB5Gl3H138vg3xAHt+HPce4Xa924P8AWLk5hHhEBX8p632goZ1YOqB9aj92KyjeFglWRNL4K9LUKTu2/DMfQMfjqK3iMiqTXYbmut0/P1WsCv5SvY21nMCoiYJfuW1+jWWn8GuVaSvVpF5siGay+5vkJg0VbkcQSS0zsECZF+EZkzr71LulRPIAun6FYxKSIDzltPsjuwM3kDhnNMbQKcwyTIqjg078OtZW1C6vDK/JasYJhFNfkleGVC2vmiTCJXfxOhmSLRZEM8lg+nz7RL8w/fWNi8fmlvfPPzA/bq6IM//mZG3uXnl+amH96YRLbsQ1TZBY1HcOiCBZ3/Vp7bWFizZiihdnrK0Wji4nh+dmi0U9+7KZR6iqeQsqv2d8He1gUQcmE53hp1q8+B9fkvE9oaFRTw+LyLfxu60zenIXT2ONraGiA/Q7Lz61q/ZSs0WvsttGsAoapiiVFdWo4UU49PwZuYveGvvUgl1LU8ChP/A0V7AtbV0E/73nvONjo2wBTkrFbyZJtYiO482PUdg7DiKD04V+9qustzCrQDQe96jXxu9vg2iO/YHTTmFwF04A/2/ah+qFe7xAsaitJrb6CpsgvjVY1MCjyXaM1WJohy/BH/ua717RJ7hlaB9JyedjoV2Jb7jC48IPXH7upmZPQBxUuGRcWORhcFsekCDbXVcMs6PU2ZXZem7zrYJ+DmlhDGdXM57D87mKp1dsKfuS3GV1KfEJsO6N6RfDEVP10FG0XVkp31hME9/qIOT7fOYDaq6ul3w3HoYIsToqiekVwVGvHK7lHtIvqp4+r4KtArPDoEvQJq+bH+Ibmqird5FdJQc24oMhZ1OTPahnkaZTJ6vCYwp4foHYJ7DrYLontUyYG9Qbva9PS4kJWgc7Z6AKpMxTmg+3awK3+CGwdhRv/x4qoFuSFEdLT3XZ+w7gWKydXYMQg3gng/VCx+vNtfUZRdfIW+CEwxGQLqlcEd/MlhwrLQsVkvXFFxcdXx4CXJsuku6GgkBN26wsYeQIG0gZ31jPVK4KjOVtYKM1fX5TV0KYM39wPfglteEeVdWdhQJwfVtWfXHvlVh466tLAYXOq+vU6hEERlEzkS/GPF1pB8qgcvDlxc3FxzzWYGPY3PkWlWpxnurFfzY33LCwuTMwngUL9zdqTFEwRtoDIYKDvo6Ye8hp+sgR/5WVeUdX0vC1YFSR6OZiUcEo+p/UTfq7tUVDwVB41mtXAMCJYIaioryc8rX1Nem3X19DdblfN3v3l82oCD/E1P7ue1/uhEaEdtyMYFMHuXkHWIx+/u2X8y32tb7e88+B425D9/OWFtvEN77S83frsV8ab0ajdQce8d4rg75EU8JUgv7txqKneXgkdb33TUGOvacxOo+MUL2Ny57AoIo4ZzRew1zJqAUsoC/csjQdrOKM1lrNa0laNjDwhzAlYYFIErgg18m68xaBGeJ3NWLsKmBS5jGaJkqzduJRZNEOYX+9gUqRLRsaVv8FoCwgZVVC4PEORUYVJEa7rP1Bb2WtTw3KKmmJq7Myz3hY2RbhOzKDyejGBjUIPOpbyS8YZwqyIchszh8IEQ/VcZ3IJFa+5wibUrhJGRbgumPLp5BeZqpyQtQksvEpMNcYSrIpwcg57UWbtOcZXsC7cwCf3x2yxUIVZEU7USjoqY4tLDGMyuQCXVjqjywyHMGBXhHsErgN1lP3XL1R5HcrqRA4/wgr5LmFV1KAI98hf45denLhxAdusSG4vXCEajN0Wsa3qYVhYIf5n5e9+jW2uTXyn0eEDdyV38JQpZBy6yDjLdGoZEa7L/wtzMJQXr5dW5GVRJhf+tGiO4Dt/WKMetSkCMryvEY/ZirN/3rNUbrZM5hbnHyMrpjmmV7RM1KgIxz28goVGlfzKxJ8WlumHokrhQu6V+XcXDhYOm+Rjhfc31axH7Ypw/o9xP1xCkZf3zj9zbc/1V5aHVy7khpeGF/b88enrEwsH6FxZub2xVrOC1K4I8F4TOWtbyhcOLM8uTSzMrjyfs8lqleFbj5AyJmryWjrKJv4zpjddiyHXXmZ2RRGgysP8CpayOKPw/r+TInZcUgSoInKZbNH54bK5VzaSslpwfubKbOa+xn82qsBH1eUZK6xtcvu7MG4qwqkmdrnOm1Xs47skn1y8G9/VdVkRoAoMCQ+lPT+Us4Vs0aNI4KLH7nAK2FpLrgRl7mHyE/e5z33uc5/73Mc1LHOJzJFg55zo23hVlDqudFzJS51zylySKVG/Z1BP/DLZyD9/EvE84nu0/c5i+43WxQfbW31dnm/91T9sFc9fvEF2/38DkWtFtk+fwN4IMCF2TA/8xtVxSR8VOvlOQZ5TePloqLYj44qIwe1CxxVMQBEUtj/JXPg3IV48w2+fOQFMV+TyAjDh/36LS0nKoR2s6iBFxOBLV8SKh/FPV+5TkXRvJDQVoUZe9IlTZxIxtuMbimQvBcgDWxM+UGPtJv1PM2fsxz0gSkyqaFWU9MBUwLzDlppKzeBMoZnDZb8MFggPVv/FJF0RcWYHIb9biDMnKharxRlS4gDVtDKXSHEZst8hJVXg8EyhBCmBiBcPC51zndDHjVLmDRURz4arsMoUdQznhKb99rOjLGKwM5Kf0rzcFXHmw0RytBe/aqhIyOn0gMQtb5Yzsh+SEmekzwWhAiYC4WuDuFsAcyQbxvYbpGIPHep5fN+2nn1fjcZTmlBJRck33qtAfJ3+2y/WmG5WemAmgm8biIE3B0P6hhcc3tjAiCa4EfU9zC74ckiMC4EYrOZb7IaVPud05L+NtdPnZnbYmiMfCHW/VxoVoIjF4WMjpKQGg9LxhK6SIkhsTgY3KY88svQedjLxjR2+svFNHEjE4W9v+iOR6hiPkZJKlLImkDGDvGlO/vFOC+dhNfJJlLtljvk7haSQvRo7tQ91yFwSysUcSFDIQx/mxb7CpnNxuDpFxMj2mUEtZ/IL4Pf0m3NJOv7TI5/CvuiAUjj1BpcQnXg5cQC+qeodGiB3pOKUYZUh87pfpP7iBM/tmHnNnCmnj1Ijn92PKWJF+rekxBI+LCc4Lx1nLczClvSr03TyVyIYlP8NV4UaECn+IikieMNpfAuPdtVRx+ckh58GhGwcYwk+PJBBW1SOlqp0His3lE3FMNPTCQ5ZPHpLniYltkS+T0oIgtNhIwGsvgJPGT0X7XkxOhLd9m1qDofJFWJVvObg7YDDb5ASx6SvEhM9+8S+0mj4ucEO8y5OpEfEMYOUsVgRoO+rQ8hygjSCHOF+8pl4gFaEP0ZKrHGaoYW0aVRpRlCQ14HPqS5yooTqqOMHaD9mRSbirB8niKWO1InCgfILKPL4L+Ab1NHq9HwQgzyCJcepXtLFx09ujaaop/8BNSntop3US6TxlKe8t/Ce/pwUhRU6KlOIIpk6gPxsBMTnRDTyj+YdopxRw3aKnKD8VPgUdiY1zZH7besox/EN6jZ6i0kqRwk5uFOkj1ceNzKkmPwUvgdcsOrcpCydaw3ODMACUGZnQOQ7YZojdUwNzGnxnlQojDtdcoJKXk6iFOGnrJeaOOSBEthr+lLKfL/E0rQ99RGZyQB2TL0FcrO3Sis/VRIMdj6hjtOPfm/qCXIqlDplL2E7IKm6rjipOeCE8ZU8g0woEkI+j5qm+ALYJjWgPI0d/lLs2UxOCt3/gdYl0rQSYETiLxFCQOC1uaSxwAfrZT4ES6lT/zU3+5Ll/Mmbrv30hxb3HpxMIGaPHYGSRYyQJhoOJcAS4YNj/u3kyiYFI/uw1ZD7hfC1M5LCd17dGMwbFUiei5y3rDT6LKUkw+coMy5HglAEaOjrmH7ri8NUti3vj9aVGXIxEAn4ReLcYoQyK4pjNtfbNWLh7MuAL3nLAmI+jOyJOOX7yxCCH6HsCyWHtEfDiFZYgZRIab6mSCWH1sAQpaYosWq+zFz60hp5a/3YX2YMETMxi+XTia2VH0xI8AuZkC6jfFOW7EFJL2LHTxOuriKSRFxtuFMLo2IkRC5P8RdPN3NZa1dgEI8Zr/1LUbnyn3GLx+ACTUvjN4tPkQ7NDlm9LCn1BBHaI2BxK/tEIUSuGMmVIJh2nTaTCN6gk6YRezWy3bZvidgB1Vz19Yi09+hTZAphTaIUloY/Ik8gqg9syNGwWAnCODMAfCF9vtSTVIISi6EinAXZJ/eVrsdI47sSPReN3fYoemXCMpBakYQWTDHSc6gnGo/pmWA+mzr51UM9h/wWfaOHbJ1RbOuLevVFHxEOeqLM6xXWSkrqvVHdkyQEi0BqgU2JoYvyfJspiYYkxcIhASvhqSTn5CPaaEAwRdTakhjpINNaROokXjKNKeUqDzq1FL0R8Xi6FySW+jxOzr0H8w7c2ZoU4aCfiGaOBGXKr2TnYqfJ+mF85FOzwIKoK3pwcAQl+JdLxMneSfVxAjl6duUD7aEKr8x12pRAIdDVqs8r9OcWxG+5lMfeC8gR0ZHw2WL7RFqKJql8CJHdVmHKuQldfKiORM/JOJlul4g99OI91MPWtKoiAl80wE1q42/QIuAe4YoiAPGDI74OQQFzSonumLzHSkD+AvCzLg0ZqmTvAAAAAElFTkSuQmCC' width='200' height='133' class=\"itemThumbnail\">\n",
       "                       </a>\n",
       "                    </div>\n",
       "\n",
       "                    <div class=\"item_right\"     style=\"float: none; width: auto; overflow: hidden;\">\n",
       "                        <a href='https://www.arcgis.com//home/item.html?id=f329c34f47cf4c46b8cce3dd3da26064' target='_blank'><b>CoCo Fresh Tea & Juice GTA 2021 </b>\n",
       "                        </a>\n",
       "                        <br/><img src='https://www.arcgis.com//home/js/jsapi/esri/css/images/item_type_icons/table16.png' style=\"vertical-align:middle;\">Table Layer by jwei_support\n",
       "                        <br/>Last Modified: October 25, 2021\n",
       "                        <br/>0 comments, 0 views\n",
       "                    </div>\n",
       "                </div>\n",
       "                "
      ],
      "text/plain": [
       "<Item title:\"CoCo Fresh Tea & Juice GTA 2021 \" type:Table Layer owner:jwei_support>"
      ]
     },
     "execution_count": 14,
     "metadata": {},
     "output_type": "execute_result"
    }
   ],
   "source": [
    "coco_feature_layer_item"
   ]
  }
 ],
 "metadata": {
  "kernelspec": {
   "display_name": "ArcGISPro",
   "language": "Python",
   "name": "python3"
  },
  "language_info": {
   "file_extension": ".py",
   "name": "python",
   "version": "3"
  }
 },
 "nbformat": 4,
 "nbformat_minor": 2
}
