{
 "cells": [
  {
   "cell_type": "code",
   "execution_count": 10,
   "metadata": {},
   "outputs": [],
   "source": [
    "from arcgis.gis import GIS"
   ]
  },
  {
   "cell_type": "code",
   "execution_count": 11,
   "metadata": {},
   "outputs": [
    {
     "ename": "TypeError",
     "evalue": "expected string or bytes-like object",
     "output_type": "error",
     "traceback": [
      "\u001b[0;31m---------------------------------------------------------------------------\u001b[0m\n\u001b[0;31mTypeError\u001b[0m                                 Traceback (most recent call last)",
      "In  \u001b[0;34m[11]\u001b[0m:\nLine \u001b[0;34m1\u001b[0m:     gis = GIS(\u001b[33m\"\u001b[39;49;00m\u001b[33mpro\u001b[39;49;00m\u001b[33m\"\u001b[39;49;00m)\n",
      "File \u001b[0;34mC:\\Users\\jwei\\AppData\\Local\\ESRI\\conda\\envs\\arcgispro-py3-clone\\Lib\\site-packages\\arcgis\\gis\\__init__.py\u001b[0m, in \u001b[0;32m__init__\u001b[0m:\nLine \u001b[0;34m245\u001b[0m:   \u001b[34mfrom\u001b[39;49;00m \u001b[04m\u001b[36marcgis\u001b[39;49;00m\u001b[04m\u001b[36m.\u001b[39;49;00m\u001b[04m\u001b[36m_impl\u001b[39;49;00m\u001b[04m\u001b[36m.\u001b[39;49;00m\u001b[04m\u001b[36mtools\u001b[39;49;00m \u001b[34mimport\u001b[39;49;00m _Tools\n",
      "File \u001b[0;34mC:\\Users\\jwei\\AppData\\Local\\ESRI\\conda\\envs\\arcgispro-py3-clone\\Lib\\site-packages\\arcgis\\_impl\\tools.py\u001b[0m, in \u001b[0;32m<module>\u001b[0m:\nLine \u001b[0;34m21\u001b[0m:    \u001b[34mimport\u001b[39;49;00m \u001b[04m\u001b[36marcgis\u001b[39;49;00m\n",
      "File \u001b[0;34mC:\\Users\\jwei\\AppData\\Local\\ESRI\\conda\\envs\\arcgispro-py3-clone\\Lib\\site-packages\\arcgis\\__init__.py\u001b[0m, in \u001b[0;32m<module>\u001b[0m:\nLine \u001b[0;34m4\u001b[0m:     \u001b[34mfrom\u001b[39;49;00m \u001b[04m\u001b[36m.\u001b[39;49;00m \u001b[34mimport\u001b[39;49;00m (features, geoanalytics, geocoding, geometry)\n",
      "File \u001b[0;34mC:\\Users\\jwei\\AppData\\Local\\ESRI\\conda\\envs\\arcgispro-py3-clone\\Lib\\site-packages\\arcgis\\features\\__init__.py\u001b[0m, in \u001b[0;32m<module>\u001b[0m:\nLine \u001b[0;34m28\u001b[0m:    \u001b[34mfrom\u001b[39;49;00m \u001b[04m\u001b[36m.\u001b[39;49;00m \u001b[34mimport\u001b[39;49;00m enrich_data\n",
      "File \u001b[0;34mC:\\Users\\jwei\\AppData\\Local\\ESRI\\conda\\envs\\arcgispro-py3-clone\\Lib\\site-packages\\arcgis\\features\\enrich_data.py\u001b[0m, in \u001b[0;32m<module>\u001b[0m:\nLine \u001b[0;34m10\u001b[0m:    \u001b[34mimport\u001b[39;49;00m \u001b[04m\u001b[36marcgis\u001b[39;49;00m\u001b[04m\u001b[36m.\u001b[39;49;00m\u001b[04m\u001b[36mnetwork\u001b[39;49;00m \u001b[34mas\u001b[39;49;00m \u001b[04m\u001b[36mnetwork\u001b[39;49;00m\n",
      "File \u001b[0;34mC:\\Users\\jwei\\AppData\\Local\\ESRI\\conda\\envs\\arcgispro-py3-clone\\Lib\\site-packages\\arcgis\\network\\__init__.py\u001b[0m, in \u001b[0;32m<module>\u001b[0m:\nLine \u001b[0;34m7\u001b[0m:     \u001b[34mfrom\u001b[39;49;00m \u001b[04m\u001b[36m.\u001b[39;49;00m\u001b[04m\u001b[36m_layer\u001b[39;49;00m \u001b[34mimport\u001b[39;49;00m NetworkLayer, NetworkDataset, ClosestFacilityLayer, ServiceAreaLayer, RouteLayer, NAJob, ODCostMatrixLayer\n",
      "File \u001b[0;34mC:\\Users\\jwei\\AppData\\Local\\ESRI\\conda\\envs\\arcgispro-py3-clone\\Lib\\site-packages\\arcgis\\network\\_layer.py\u001b[0m, in \u001b[0;32m<module>\u001b[0m:\nLine \u001b[0;34m8\u001b[0m:     \u001b[34mfrom\u001b[39;49;00m \u001b[04m\u001b[36marcgis\u001b[39;49;00m\u001b[04m\u001b[36m.\u001b[39;49;00m\u001b[04m\u001b[36mmapping\u001b[39;49;00m \u001b[34mimport\u001b[39;49;00m MapImageLayer\n",
      "File \u001b[0;34mC:\\Users\\jwei\\AppData\\Local\\ESRI\\conda\\envs\\arcgispro-py3-clone\\Lib\\site-packages\\arcgis\\mapping\\__init__.py\u001b[0m, in \u001b[0;32m<module>\u001b[0m:\nLine \u001b[0;34m8\u001b[0m:     \u001b[34mfrom\u001b[39;49;00m \u001b[04m\u001b[36m.\u001b[39;49;00m\u001b[04m\u001b[36m_types\u001b[39;49;00m \u001b[34mimport\u001b[39;49;00m WebMap, WebScene, MapImageLayer, MapImageLayerManager, VectorTileLayer, OfflineMapAreaManager, PackagingJob\n",
      "File \u001b[0;34mC:\\Users\\jwei\\AppData\\Local\\ESRI\\conda\\envs\\arcgispro-py3-clone\\Lib\\site-packages\\arcgis\\mapping\\_types.py\u001b[0m, in \u001b[0;32m<module>\u001b[0m:\nLine \u001b[0;34m25\u001b[0m:    \u001b[34mfrom\u001b[39;49;00m \u001b[04m\u001b[36marcgis\u001b[39;49;00m\u001b[04m\u001b[36m.\u001b[39;49;00m\u001b[04m\u001b[36mwidgets\u001b[39;49;00m\u001b[04m\u001b[36m.\u001b[39;49;00m\u001b[04m\u001b[36m_mapview\u001b[39;49;00m\u001b[04m\u001b[36m.\u001b[39;49;00m\u001b[04m\u001b[36m_traitlets_extension\u001b[39;49;00m \u001b[34mimport\u001b[39;49;00m ObservableDict\n",
      "File \u001b[0;34mC:\\Users\\jwei\\AppData\\Local\\ESRI\\conda\\envs\\arcgispro-py3-clone\\Lib\\site-packages\\arcgis\\widgets\\__init__.py\u001b[0m, in \u001b[0;32m<module>\u001b[0m:\nLine \u001b[0;34m2\u001b[0m:     \u001b[34mfrom\u001b[39;49;00m \u001b[04m\u001b[36marcgis\u001b[39;49;00m\u001b[04m\u001b[36m.\u001b[39;49;00m\u001b[04m\u001b[36mwidgets\u001b[39;49;00m\u001b[04m\u001b[36m.\u001b[39;49;00m\u001b[04m\u001b[36m_mapview\u001b[39;49;00m \u001b[34mimport\u001b[39;49;00m MapView\n",
      "File \u001b[0;34mC:\\Users\\jwei\\AppData\\Local\\ESRI\\conda\\envs\\arcgispro-py3-clone\\Lib\\site-packages\\arcgis\\widgets\\_mapview\\__init__.py\u001b[0m, in \u001b[0;32m<module>\u001b[0m:\nLine \u001b[0;34m1\u001b[0m:     \u001b[34mfrom\u001b[39;49;00m \u001b[04m\u001b[36marcgis\u001b[39;49;00m\u001b[04m\u001b[36m.\u001b[39;49;00m\u001b[04m\u001b[36mwidgets\u001b[39;49;00m\u001b[04m\u001b[36m.\u001b[39;49;00m\u001b[04m\u001b[36m_mapview\u001b[39;49;00m\u001b[04m\u001b[36m.\u001b[39;49;00m\u001b[04m\u001b[36m_mapview\u001b[39;49;00m \u001b[34mimport\u001b[39;49;00m MapView\n",
      "File \u001b[0;34mC:\\Users\\jwei\\AppData\\Local\\ESRI\\conda\\envs\\arcgispro-py3-clone\\Lib\\site-packages\\arcgis\\widgets\\_mapview\\_mapview.py\u001b[0m, in \u001b[0;32m<module>\u001b[0m:\nLine \u001b[0;34m37\u001b[0m:    \u001b[34mimport\u001b[39;49;00m \u001b[04m\u001b[36mpandas\u001b[39;49;00m \u001b[34mas\u001b[39;49;00m \u001b[04m\u001b[36mpd\u001b[39;49;00m\n",
      "File \u001b[0;34mC:\\Users\\jwei\\AppData\\Local\\ESRI\\conda\\envs\\arcgispro-py3-clone\\Lib\\site-packages\\pandas\\__init__.py\u001b[0m, in \u001b[0;32m<module>\u001b[0m:\nLine \u001b[0;34m22\u001b[0m:    \u001b[34mfrom\u001b[39;49;00m \u001b[04m\u001b[36mpandas\u001b[39;49;00m\u001b[04m\u001b[36m.\u001b[39;49;00m\u001b[04m\u001b[36mcompat\u001b[39;49;00m \u001b[34mimport\u001b[39;49;00m (\n",
      "File \u001b[0;34mC:\\Users\\jwei\\AppData\\Local\\ESRI\\conda\\envs\\arcgispro-py3-clone\\Lib\\site-packages\\pandas\\compat\\__init__.py\u001b[0m, in \u001b[0;32m<module>\u001b[0m:\nLine \u001b[0;34m23\u001b[0m:    \u001b[34mfrom\u001b[39;49;00m \u001b[04m\u001b[36mpandas\u001b[39;49;00m\u001b[04m\u001b[36m.\u001b[39;49;00m\u001b[04m\u001b[36mcompat\u001b[39;49;00m\u001b[04m\u001b[36m.\u001b[39;49;00m\u001b[04m\u001b[36mpyarrow\u001b[39;49;00m \u001b[34mimport\u001b[39;49;00m (\n",
      "File \u001b[0;34mC:\\Users\\jwei\\AppData\\Local\\ESRI\\conda\\envs\\arcgispro-py3-clone\\Lib\\site-packages\\pandas\\compat\\pyarrow.py\u001b[0m, in \u001b[0;32m<module>\u001b[0m:\nLine \u001b[0;34m9\u001b[0m:     _palv = Version(_pa_version)\n",
      "File \u001b[0;34mC:\\Users\\jwei\\AppData\\Local\\ESRI\\conda\\envs\\arcgispro-py3-clone\\Lib\\site-packages\\pandas\\util\\version\\__init__.py\u001b[0m, in \u001b[0;32m__init__\u001b[0m:\nLine \u001b[0;34m339\u001b[0m:   match = \u001b[36mself\u001b[39;49;00m._regex.search(version)\n",
      "\u001b[0;31mTypeError\u001b[0m: expected string or bytes-like object\n\u001b[0;31m---------------------------------------------------------------------------\u001b[0m"
     ]
    }
   ],
   "source": [
    "gis = GIS(\"pro\")"
   ]
  },
  {
   "cell_type": "code",
   "execution_count": 7,
   "metadata": {},
   "outputs": [
    {
     "data": {
      "text/plain": [
       "'ArcGIS Online'"
      ]
     },
     "execution_count": 7,
     "metadata": {},
     "output_type": "execute_result"
    }
   ],
   "source": [
    "gis.properties.portalName"
   ]
  },
  {
   "cell_type": "code",
   "execution_count": 8,
   "metadata": {},
   "outputs": [],
   "source": [
    "user_list = gis.users.search(\"*\")"
   ]
  },
  {
   "cell_type": "code",
   "execution_count": 9,
   "metadata": {},
   "outputs": [],
   "source": [
    "for user in user_list:\n",
    "    # Script is based on the demo video\n",
    "    print(f\"{user.username[:28]:30}{len(user.items())}\")"
   ]
  },
  {
   "cell_type": "code",
   "execution_count": 6,
   "metadata": {},
   "outputs": [
    {
     "name": "stdout",
     "output_type": "stream",
     "text": [
      "\u001b[1;31mSignature:\u001b[0m\n",
      "\u001b[0mgis\u001b[0m\u001b[1;33m.\u001b[0m\u001b[0mcontent\u001b[0m\u001b[1;33m.\u001b[0m\u001b[0msearch\u001b[0m\u001b[1;33m(\u001b[0m\u001b[1;33m\n",
      "\u001b[0m    \u001b[0mquery\u001b[0m\u001b[1;33m,\u001b[0m\u001b[1;33m\n",
      "\u001b[0m    \u001b[0mitem_type\u001b[0m\u001b[1;33m=\u001b[0m\u001b[1;32mNone\u001b[0m\u001b[1;33m,\u001b[0m\u001b[1;33m\n",
      "\u001b[0m    \u001b[0msort_field\u001b[0m\u001b[1;33m=\u001b[0m\u001b[1;34m'avgRating'\u001b[0m\u001b[1;33m,\u001b[0m\u001b[1;33m\n",
      "\u001b[0m    \u001b[0msort_order\u001b[0m\u001b[1;33m=\u001b[0m\u001b[1;34m'desc'\u001b[0m\u001b[1;33m,\u001b[0m\u001b[1;33m\n",
      "\u001b[0m    \u001b[0mmax_items\u001b[0m\u001b[1;33m=\u001b[0m\u001b[1;36m10\u001b[0m\u001b[1;33m,\u001b[0m\u001b[1;33m\n",
      "\u001b[0m    \u001b[0moutside_org\u001b[0m\u001b[1;33m=\u001b[0m\u001b[1;32mFalse\u001b[0m\u001b[1;33m,\u001b[0m\u001b[1;33m\n",
      "\u001b[0m    \u001b[0mcategories\u001b[0m\u001b[1;33m=\u001b[0m\u001b[1;32mNone\u001b[0m\u001b[1;33m,\u001b[0m\u001b[1;33m\n",
      "\u001b[0m    \u001b[0mcategory_filters\u001b[0m\u001b[1;33m=\u001b[0m\u001b[1;32mNone\u001b[0m\u001b[1;33m,\u001b[0m\u001b[1;33m\n",
      "\u001b[0m\u001b[1;33m)\u001b[0m\u001b[1;33m\u001b[0m\u001b[1;33m\u001b[0m\u001b[0m\n",
      "\u001b[1;31mDocstring:\u001b[0m\n",
      "Searches for portal items.\n",
      "\n",
      ".. note::\n",
      "    A few things that will be helpful to know...\n",
      "\n",
      "    1. The query syntax has many features that can't be adequately\n",
      "       described here.  The query syntax is available in ArcGIS Help.\n",
      "       A short version of that URL is http://bitly.com/1fJ8q31.\n",
      "\n",
      "    2. Most of the time when searching for items, you'll want to\n",
      "       search within your organization in ArcGIS Online\n",
      "       or within your Portal.  As a convenience, the method\n",
      "---Return to continue, q to quit---                                    \u001b[0m       automatically appends your organization id to the query by\n",
      "       default.  If you want content from outside your organization\n",
      "       set outside_org to True.\n",
      "\n",
      "================  ==========================================================================\n",
      "**Argument**      **Description**\n",
      "----------------  --------------------------------------------------------------------------\n",
      "query             Required string. A query string.  See notes above.\n",
      "----------------  --------------------------------------------------------------------------\n",
      "item_type         Optional string. Set type of item to search.\n",
      "                  http://resources.arcgis.com/en/help/arcgis-rest-api/index.html#//02r3000000ms000000\n",
      "----------------  --------------------------------------------------------------------------\n",
      "sort_field        Optional string. Valid values can be title, uploaded, type, owner, modified,\n",
      "                  avgRating, numRatings, numComments, and numViews.\n",
      "----------------  --------------------------------------------------------------------------\n",
      "sort_order        Optional string. Valid values are asc or desc.\n",
      "----------------  --------------------------------------------------------------------------\n",
      "max_items         Optional integer. Maximum number of items returned, default is 10.\n",
      "----------------  --------------------------------------------------------------------------\n",
      "outside_org       Optional boolean. Controls whether to search outside your org (default is False, do not search ourside your org).\n",
      "----------------  --------------------------------------------------------------------------\n",
      "categories        Optional string or list. A string of category values.\n",
      "----------------  --------------------------------------------------------------------------\n",
      "category_filters  Optional string. A comma separated list of up to 3 category terms to\n",
      "---Return to continue, q to quit---                                    \u001b[0m                  search items that have matching categories.\n",
      "\n",
      "                  Up to 2 category_filters parameter are allowed per request. It can not be\n",
      "                  used together with categories to search in a request.\n",
      "\n",
      "================  ==========================================================================\n",
      "\n",
      ":return:\n",
      "    A list of items matching the specified query.\n",
      "\u001b[1;31mFile:\u001b[0m      c:\\users\\jwei\\appdata\\local\\esri\\conda\\envs\\arcgispro-py3-clone\\lib\\site-packages\\arcgis\\gis\\__init__.py\n",
      "\u001b[1;31mType:\u001b[0m      method\n"
     ]
    }
   ],
   "source": [
    "gis.content.search?"
   ]
  }
 ],
 "metadata": {
  "kernelspec": {
   "display_name": "ArcGISPro",
   "language": "Python",
   "name": "python3"
  },
  "language_info": {
   "file_extension": ".py",
   "name": "python",
   "version": "3"
  }
 },
 "nbformat": 4,
 "nbformat_minor": 2
}
